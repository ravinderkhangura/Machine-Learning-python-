{
 "cells": [
  {
   "cell_type": "code",
   "execution_count": 3,
   "metadata": {},
   "outputs": [
    {
     "name": "stdout",
     "output_type": "stream",
     "text": [
      "Enter the cost price : 400\n",
      "Enter the selling price : 300\n",
      "loss= 100 \n"
     ]
    }
   ],
   "source": [
    "cp = int(input(\"Enter the cost price : \"))\n",
    "sp = int(input(\"Enter the selling price : \"))\n",
    "if sp>cp:\n",
    "        print(\"profit= {} \".format(sp-cp))\n",
    "elif sp<cp:\n",
    "    print(\"loss= {} \".format(cp-sp))\n",
    "else:\n",
    "    print(\"no loss no profit\")"
   ]
  },
  {
   "cell_type": "code",
   "execution_count": null,
   "metadata": {},
   "outputs": [],
   "source": []
  }
 ],
 "metadata": {
  "kernelspec": {
   "display_name": "Python 3",
   "language": "python",
   "name": "python3"
  },
  "language_info": {
   "codemirror_mode": {
    "name": "ipython",
    "version": 3
   },
   "file_extension": ".py",
   "mimetype": "text/x-python",
   "name": "python",
   "nbconvert_exporter": "python",
   "pygments_lexer": "ipython3",
   "version": "3.7.3"
  }
 },
 "nbformat": 4,
 "nbformat_minor": 2
}
