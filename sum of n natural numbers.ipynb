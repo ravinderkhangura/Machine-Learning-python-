{
 "cells": [
  {
   "cell_type": "code",
   "execution_count": 15,
   "metadata": {},
   "outputs": [
    {
     "name": "stdout",
     "output_type": "stream",
     "text": [
      "Enter the number : 10\n",
      "sum of first 10 Natural Numbers is : 45 \n"
     ]
    }
   ],
   "source": [
    "# using list \n",
    "\n",
    "n= int(input(\"Enter the number : \"))\n",
    "ls=[]\n",
    "\n",
    "for x in range(0,n):\n",
    "    ls.append(str(x))   #enters the next number in list\n",
    "    \n",
    "ex= '+'.join(ls)   #converts the list element into stirng like 1+2+3+5\n",
    "\n",
    "print(\"sum of first {} Natural Numbers is : {} \".format(n,eval(ex)))   #eval function solves the expression ex\n"
   ]
  },
  {
   "cell_type": "code",
   "execution_count": 16,
   "metadata": {},
   "outputs": [
    {
     "name": "stdout",
     "output_type": "stream",
     "text": [
      "sum of first  10  Natural Numbers is  45\n"
     ]
    }
   ],
   "source": [
    "# using for loop only\n",
    "\n",
    "s= 0\n",
    "for x in range(n):\n",
    "    s= x + s\n",
    "    \n",
    "print(\"sum of first \",n,\" Natural Numbers is \",s )\n",
    "\n"
   ]
  },
  {
   "cell_type": "code",
   "execution_count": null,
   "metadata": {},
   "outputs": [],
   "source": []
  }
 ],
 "metadata": {
  "kernelspec": {
   "display_name": "Python 3",
   "language": "python",
   "name": "python3"
  },
  "language_info": {
   "codemirror_mode": {
    "name": "ipython",
    "version": 3
   },
   "file_extension": ".py",
   "mimetype": "text/x-python",
   "name": "python",
   "nbconvert_exporter": "python",
   "pygments_lexer": "ipython3",
   "version": "3.7.3"
  }
 },
 "nbformat": 4,
 "nbformat_minor": 2
}
