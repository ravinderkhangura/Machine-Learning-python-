{
 "cells": [
  {
   "cell_type": "code",
   "execution_count": 2,
   "metadata": {},
   "outputs": [
    {
     "name": "stdout",
     "output_type": "stream",
     "text": [
      "Enter Marks out of 100\n",
      "Physics 80\n",
      "Chemistry 70\n",
      "Biology 80\n",
      "Mathematics 80\n",
      "Computer 70\n",
      "Percentage =  76.0 %\n",
      "Grade C\n"
     ]
    }
   ],
   "source": [
    "print(\"Enter Marks out of 100\")\n",
    "phy = int(input(\"Physics \"))\n",
    "chem= int(input(\"Chemistry \"))\n",
    "bio= int(input(\"Biology \"))\n",
    "maths= int(input(\"Mathematics \"))\n",
    "cp= int(input(\"Computer \"))\n",
    "\n",
    "total= phy+chem+bio+maths+cp\n",
    "\n",
    "per= total/500*100\n",
    "\n",
    "print(\"Percentage = \",per,\"%\")\n",
    "if per>=90:\n",
    "    print(\"Grade A\")\n",
    "\n",
    "elif per>=80 and per<90:\n",
    "    print(\"Grade B\")\n",
    "\n",
    "elif per>=70 and per<80:\n",
    "    print(\"Grade C\")\n",
    "\n",
    "elif per>=60 and per<70:\n",
    "    print(\"Grade D\")\n",
    "\n",
    "elif per>=40 and per<60:\n",
    "    print(\"Grade E\")\n",
    "    \n",
    "else:\n",
    "    print(\"Grade F\")"
   ]
  },
  {
   "cell_type": "code",
   "execution_count": null,
   "metadata": {},
   "outputs": [],
   "source": []
  }
 ],
 "metadata": {
  "kernelspec": {
   "display_name": "Python 3",
   "language": "python",
   "name": "python3"
  },
  "language_info": {
   "codemirror_mode": {
    "name": "ipython",
    "version": 3
   },
   "file_extension": ".py",
   "mimetype": "text/x-python",
   "name": "python",
   "nbconvert_exporter": "python",
   "pygments_lexer": "ipython3",
   "version": "3.7.3"
  }
 },
 "nbformat": 4,
 "nbformat_minor": 2
}
