{
 "cells": [
  {
   "cell_type": "code",
   "execution_count": 13,
   "metadata": {},
   "outputs": [
    {
     "name": "stdout",
     "output_type": "stream",
     "text": [
      "Max is :  100\n",
      "Min is :  2\n"
     ]
    }
   ],
   "source": [
    "import array as arr #alias\n",
    "\n",
    "a1=arr.array('i',[11,56,32,2,45,100,34,76,79,10])\n",
    "m = a1[0]\n",
    "n= a1[0]\n",
    "\n",
    "for i in a1:\n",
    "    if i> m:\n",
    "        m=i \n",
    "    elif i<n:\n",
    "        n=i\n",
    "   \n",
    "print(\"Max is : \",m)\n",
    "print(\"Min is : \",n)\n",
    "\n",
    "\n",
    "\n"
   ]
  },
  {
   "cell_type": "code",
   "execution_count": null,
   "metadata": {},
   "outputs": [],
   "source": []
  }
 ],
 "metadata": {
  "kernelspec": {
   "display_name": "Python 3",
   "language": "python",
   "name": "python3"
  },
  "language_info": {
   "codemirror_mode": {
    "name": "ipython",
    "version": 3
   },
   "file_extension": ".py",
   "mimetype": "text/x-python",
   "name": "python",
   "nbconvert_exporter": "python",
   "pygments_lexer": "ipython3",
   "version": "3.7.3"
  }
 },
 "nbformat": 4,
 "nbformat_minor": 2
}
