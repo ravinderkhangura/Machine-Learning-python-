{
 "cells": [
  {
   "cell_type": "code",
   "execution_count": 2,
   "metadata": {},
   "outputs": [],
   "source": [
    "import nltk\n",
    "#nltk.download()"
   ]
  },
  {
   "cell_type": "code",
   "execution_count": 21,
   "metadata": {},
   "outputs": [],
   "source": [
    "#word_tokenize coverts text into tokens\n",
    "from nltk.tokenize import word_tokenize"
   ]
  },
  {
   "cell_type": "code",
   "execution_count": 22,
   "metadata": {},
   "outputs": [
    {
     "name": "stdout",
     "output_type": "stream",
     "text": [
      "['The', 'quick', 'brown', 'fox', 'jumps', 'over', 'the', 'lazy', 'dog', '.', 'Arthur', 'did', \"n't\", 'feel', 'very', 'good', '.']\n"
     ]
    }
   ],
   "source": [
    "text= \"\"\"The quick brown fox jumps over the lazy dog.\n",
    "Arthur didn't feel very good.\"\"\"\n",
    "\n",
    "tokens= word_tokenize(text)\n",
    "print(tokens)\n"
   ]
  },
  {
   "cell_type": "code",
   "execution_count": 23,
   "metadata": {},
   "outputs": [
    {
     "data": {
      "text/plain": [
       "[('The', 'DT'),\n",
       " ('quick', 'JJ'),\n",
       " ('brown', 'NN'),\n",
       " ('fox', 'NN'),\n",
       " ('jumps', 'VBZ'),\n",
       " ('over', 'IN'),\n",
       " ('the', 'DT'),\n",
       " ('lazy', 'JJ'),\n",
       " ('dog', 'NN'),\n",
       " ('.', '.'),\n",
       " ('Arthur', 'NNP'),\n",
       " ('did', 'VBD'),\n",
       " (\"n't\", 'RB'),\n",
       " ('feel', 'VB'),\n",
       " ('very', 'RB'),\n",
       " ('good', 'JJ'),\n",
       " ('.', '.')]"
      ]
     },
     "execution_count": 23,
     "metadata": {},
     "output_type": "execute_result"
    }
   ],
   "source": [
    "tags = nltk.pos_tag(tokens)\n",
    "tags"
   ]
  },
  {
   "cell_type": "code",
   "execution_count": 24,
   "metadata": {},
   "outputs": [],
   "source": [
    "#stopwords contain unwanted words that can be removed from the text\n",
    "from nltk.corpus import stopwords\n",
    "stop_words= set(stopwords.words('english'))"
   ]
  },
  {
   "cell_type": "code",
   "execution_count": 25,
   "metadata": {},
   "outputs": [
    {
     "name": "stdout",
     "output_type": "stream",
     "text": [
      "{'during', 'off', 'again', 'am', 'here', 'so', \"she's\", \"mustn't\", 'she', 'because', 'all', 'these', 'this', 'then', 'most', 'under', 'whom', \"that'll\", 't', 'with', 'doesn', 'both', 'his', 'yourself', 'further', 'any', 'too', 'ourselves', 'herself', 'didn', \"you'd\", \"won't\", 'ours', 'from', 'above', 'in', 'll', 'won', \"you've\", 'how', 'where', 'of', 'into', 'some', 'they', 'about', 'wouldn', 'your', 'to', 'until', \"needn't\", 'our', 'who', 'before', 'more', 'through', 'just', 'o', \"hasn't\", 'against', 'himself', 'having', 'those', 'for', 'if', 'had', 'why', 'by', \"doesn't\", \"haven't\", 'such', 'mightn', 'hers', 'be', 'over', 'its', 'couldn', 'an', 'i', 'the', \"shouldn't\", 'same', 'my', 'were', 'will', \"it's\", 'as', 'and', 'should', 'or', 'not', \"wasn't\", 'me', 'been', 'mustn', 'can', 'did', 'between', 'yours', 'them', 'there', 'itself', 'isn', \"isn't\", 'few', 'no', 'only', 'wasn', 'but', 'down', \"you'll\", 'below', 'after', 'hadn', 'do', 'when', 'has', 'haven', 'hasn', 'it', 'is', 'being', 'm', 'their', 'at', 'myself', 'are', 'themselves', 'ain', 'doing', \"hadn't\", 've', 'ma', 'shouldn', \"wouldn't\", 'up', 'yourselves', 'other', 'own', 'what', 'aren', 're', 'that', 'than', 'while', 'we', 'he', 'don', \"weren't\", 'd', 'needn', \"you're\", 'very', 'shan', 'her', 'out', \"aren't\", 'each', 'which', 'him', 's', 'have', 'does', 'theirs', 'y', \"didn't\", \"mightn't\", 'you', 'now', 'nor', \"couldn't\", \"should've\", 'weren', 'once', 'was', 'a', 'on', \"shan't\", \"don't\"}\n"
     ]
    }
   ],
   "source": [
    "print(stop_words)"
   ]
  },
  {
   "cell_type": "code",
   "execution_count": 26,
   "metadata": {},
   "outputs": [],
   "source": [
    "tokens_flt =  [w for w in tokens if not w in stop_words]"
   ]
  },
  {
   "cell_type": "code",
   "execution_count": 27,
   "metadata": {},
   "outputs": [
    {
     "name": "stdout",
     "output_type": "stream",
     "text": [
      "['The', 'quick', 'brown', 'fox', 'jumps', 'lazy', 'dog', '.', 'Arthur', \"n't\", 'feel', 'good', '.']\n"
     ]
    }
   ],
   "source": [
    "print(tokens_flt)\n"
   ]
  },
  {
   "cell_type": "code",
   "execution_count": 28,
   "metadata": {},
   "outputs": [],
   "source": [
    "#porter-stemmer converts text in basic form i.e Root form\n",
    "from nltk.stem.porter import PorterStemmer\n"
   ]
  },
  {
   "cell_type": "code",
   "execution_count": 29,
   "metadata": {},
   "outputs": [],
   "source": [
    "porter= PorterStemmer()\n",
    "stems=[]\n",
    "for t in tokens_flt:\n",
    "    stems.append(porter.stem(t))\n",
    "    "
   ]
  },
  {
   "cell_type": "code",
   "execution_count": 30,
   "metadata": {},
   "outputs": [
    {
     "name": "stdout",
     "output_type": "stream",
     "text": [
      "['the', 'quick', 'brown', 'fox', 'jump', 'lazi', 'dog', '.', 'arthur', \"n't\", 'feel', 'good', '.']\n"
     ]
    }
   ],
   "source": [
    "print(stems)"
   ]
  },
  {
   "cell_type": "code",
   "execution_count": null,
   "metadata": {},
   "outputs": [],
   "source": []
  },
  {
   "cell_type": "code",
   "execution_count": null,
   "metadata": {},
   "outputs": [],
   "source": []
  }
 ],
 "metadata": {
  "kernelspec": {
   "display_name": "Python 3",
   "language": "python",
   "name": "python3"
  },
  "language_info": {
   "codemirror_mode": {
    "name": "ipython",
    "version": 3
   },
   "file_extension": ".py",
   "mimetype": "text/x-python",
   "name": "python",
   "nbconvert_exporter": "python",
   "pygments_lexer": "ipython3",
   "version": "3.7.3"
  }
 },
 "nbformat": 4,
 "nbformat_minor": 2
}
