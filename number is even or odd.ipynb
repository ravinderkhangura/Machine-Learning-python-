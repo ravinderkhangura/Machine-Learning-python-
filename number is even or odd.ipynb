{
 "cells": [
  {
   "cell_type": "code",
   "execution_count": 7,
   "metadata": {},
   "outputs": [
    {
     "name": "stdout",
     "output_type": "stream",
     "text": [
      "Enter the number : 44\n",
      "Number is Even\n"
     ]
    }
   ],
   "source": [
    "# use of if and else and elif\n",
    "\n",
    "n= int(input(\"Enter the number : \"))\n",
    "\n",
    "if n is 0 or n<0 :\n",
    "    print(\"invalid number\")\n",
    "    \n",
    "elif n%2 is 0 :\n",
    "    print(\"Number is Even\")\n",
    "else:\n",
    "    print(\"number is odd\")"
   ]
  },
  {
   "cell_type": "code",
   "execution_count": null,
   "metadata": {},
   "outputs": [],
   "source": []
  }
 ],
 "metadata": {
  "kernelspec": {
   "display_name": "Python 3",
   "language": "python",
   "name": "python3"
  },
  "language_info": {
   "codemirror_mode": {
    "name": "ipython",
    "version": 3
   },
   "file_extension": ".py",
   "mimetype": "text/x-python",
   "name": "python",
   "nbconvert_exporter": "python",
   "pygments_lexer": "ipython3",
   "version": "3.7.3"
  }
 },
 "nbformat": 4,
 "nbformat_minor": 2
}
