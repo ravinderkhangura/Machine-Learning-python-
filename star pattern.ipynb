{
 "cells": [
  {
   "cell_type": "code",
   "execution_count": 3,
   "metadata": {},
   "outputs": [
    {
     "name": "stdout",
     "output_type": "stream",
     "text": [
      "\n",
      "*\n",
      "**\n",
      "***\n",
      "****\n",
      "*****\n",
      "******\n"
     ]
    }
   ],
   "source": [
    "for x in range(0,7):\n",
    "    print(\"*\"*x)\n"
   ]
  },
  {
   "cell_type": "code",
   "execution_count": 2,
   "metadata": {},
   "outputs": [
    {
     "name": "stdout",
     "output_type": "stream",
     "text": [
      "\n",
      "*\n",
      "**\n",
      "***\n",
      "****\n",
      "*****\n",
      "******\n"
     ]
    }
   ],
   "source": [
    "x=0\n",
    "\n",
    "while x<7:\n",
    "    print(\"*\"*x)\n",
    "    x= x+1"
   ]
  },
  {
   "cell_type": "code",
   "execution_count": 21,
   "metadata": {},
   "outputs": [
    {
     "name": "stdout",
     "output_type": "stream",
     "text": [
      "                     *\n",
      "                    ***\n",
      "                   *****\n",
      "                  *******\n",
      "                 *********\n",
      "                ***********\n",
      "               *************\n",
      "              ***************\n",
      "             *****************\n",
      "            *******************\n"
     ]
    }
   ],
   "source": [
    "s=20\n",
    "for x in range(1,s,2):\n",
    "    print(\" \"*s,\"*\"*x)\n",
    "    s= s-1\n",
    "\n"
   ]
  },
  {
   "cell_type": "code",
   "execution_count": 20,
   "metadata": {},
   "outputs": [
    {
     "name": "stdout",
     "output_type": "stream",
     "text": [
      "********\n",
      "*******\n",
      "******\n",
      "*****\n",
      "****\n",
      "***\n",
      "**\n",
      "*\n"
     ]
    }
   ],
   "source": [
    "x=8\n",
    "while x is not 0:\n",
    "    print(\"*\"*x)\n",
    "    x= x-1\n"
   ]
  },
  {
   "cell_type": "code",
   "execution_count": 65,
   "metadata": {},
   "outputs": [
    {
     "name": "stdout",
     "output_type": "stream",
     "text": [
      " *****************\n",
      "  ***************\n",
      "   *************\n",
      "    ***********\n",
      "     *********\n",
      "      *******\n",
      "       *****\n",
      "        ***\n",
      "         *\n",
      "          \n",
      "           \n",
      "            \n",
      "             \n",
      "              \n",
      "               \n",
      "                \n",
      "                 \n"
     ]
    }
   ],
   "source": [
    "s= 17\n",
    "\n",
    "for x in range(0,s):\n",
    "    print(\" \"*x,\"*\"*s)\n",
    "    s= s-2\n",
    "    \n",
    "    \n",
    "    \n",
    "\n"
   ]
  },
  {
   "cell_type": "code",
   "execution_count": 69,
   "metadata": {},
   "outputs": [
    {
     "name": "stdout",
     "output_type": "stream",
     "text": [
      " ************\n",
      "  ***********\n",
      "   **********\n",
      "    *********\n",
      "     ********\n",
      "      *******\n",
      "       ******\n",
      "        *****\n",
      "         ****\n",
      "          ***\n",
      "           **\n",
      "            *\n"
     ]
    }
   ],
   "source": [
    "s= 12\n",
    "for x in range(0,s):\n",
    "    print(\" \"*x,\"*\"*s)\n",
    "    s= s-1\n",
    "\n"
   ]
  }
 ],
 "metadata": {
  "kernelspec": {
   "display_name": "Python 3",
   "language": "python",
   "name": "python3"
  },
  "language_info": {
   "codemirror_mode": {
    "name": "ipython",
    "version": 3
   },
   "file_extension": ".py",
   "mimetype": "text/x-python",
   "name": "python",
   "nbconvert_exporter": "python",
   "pygments_lexer": "ipython3",
   "version": "3.7.3"
  }
 },
 "nbformat": 4,
 "nbformat_minor": 2
}
