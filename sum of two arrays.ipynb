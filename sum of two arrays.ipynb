{
 "cells": [
  {
   "cell_type": "code",
   "execution_count": 21,
   "metadata": {},
   "outputs": [
    {
     "name": "stdout",
     "output_type": "stream",
     "text": [
      "array('i', [4, 8, 10, 13, 14, 10, 12, 6, 3, 13])\n"
     ]
    }
   ],
   "source": [
    "import array\n",
    "\n",
    "arr1= array.array('i',[1,3,4,6,7,4,8,4,2,4])\n",
    "\n",
    "arr2= array.array('i',[3,5,6,7,7,6,4,2,1,9])\n",
    "\n",
    "arr= array.array('i',[])\n",
    "\n",
    "if len(arr1)>len(arr2):\n",
    "    s=len(arr1)\n",
    "    \n",
    "else:\n",
    "    s=len(arr2)\n",
    "    \n",
    "for i in range(0,s):\n",
    "       arr.append(arr1[i]+arr2[i])\n",
    "        \n",
    "print(arr)\n",
    "        "
   ]
  }
 ],
 "metadata": {
  "kernelspec": {
   "display_name": "Python 3",
   "language": "python",
   "name": "python3"
  },
  "language_info": {
   "codemirror_mode": {
    "name": "ipython",
    "version": 3
   },
   "file_extension": ".py",
   "mimetype": "text/x-python",
   "name": "python",
   "nbconvert_exporter": "python",
   "pygments_lexer": "ipython3",
   "version": "3.7.3"
  }
 },
 "nbformat": 4,
 "nbformat_minor": 2
}
