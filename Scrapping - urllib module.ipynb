{
 "cells": [
  {
   "cell_type": "code",
   "execution_count": 1,
   "metadata": {},
   "outputs": [],
   "source": [
    "import random\n",
    "import urllib.request as ur\n",
    "\n"
   ]
  },
  {
   "cell_type": "code",
   "execution_count": 4,
   "metadata": {},
   "outputs": [],
   "source": [
    "def downloader(url):\n",
    "    \n",
    "    name= random.randrange(1,10000)\n",
    "    folder = './file/imgset/imgs/huskydataset/'\n",
    "    \n",
    "    fullname = folder+str(name)+'.jpg'\n",
    "    ur.urlretrieve(url,fullname)\n",
    "    \n",
    "    \n",
    "fpath= './file/imgset/urls/huskyurl.txt'\n",
    "f= open(fpath)\n",
    "data= f.read().split('\\n')\n",
    "    \n"
   ]
  },
  {
   "cell_type": "code",
   "execution_count": 6,
   "metadata": {},
   "outputs": [
    {
     "name": "stdout",
     "output_type": "stream",
     "text": [
      "Downloading... http://farm2.static.flickr.com/1131/681589138_e4b702f863.jpg\n",
      "Image Saved\n",
      "Downloading... http://farm1.static.flickr.com/8/9877764_70c7f8f1c0.jpg\n",
      "Image Saved\n",
      "Downloading... http://farm1.static.flickr.com/41/84158704_4d98d48c9b.jpg\n",
      "Image Saved\n",
      "Downloading... http://farm1.static.flickr.com/30/67014080_df1d6653e7.jpg\n",
      "Image Saved\n",
      "Downloading... http://about.reuters.com/pictures/prints/galleries/Stories/632425282762244645/Previews/X010950020041209e0c90002u.jpg\n",
      "Download Failed!\n",
      "Downloading... http://farm1.static.flickr.com/30/51398169_bc499fc4d4.jpg\n",
      "Download Failed!\n",
      "Downloading... http://farm1.static.flickr.com/52/126706573_2566727927.jpg\n",
      "Image Saved\n",
      "Downloading... http://farm1.static.flickr.com/51/202205490_2dd6bf2e39.jpg\n",
      "Image Saved\n",
      "Downloading... http://farm1.static.flickr.com/66/157407741_f951117dba.jpg\n",
      "Image Saved\n",
      "Downloading... http://farm1.static.flickr.com/115/314276678_dfdac66a62.jpg\n",
      "Image Saved\n"
     ]
    }
   ],
   "source": [
    "for url in data[0:10]:\n",
    "    print(\"Downloading...\",url)\n",
    "    try:\n",
    "        downloader(url)\n",
    "        print(\"Image Saved\")\n",
    "    except:\n",
    "        print(\"Download Failed!\")"
   ]
  },
  {
   "cell_type": "code",
   "execution_count": null,
   "metadata": {},
   "outputs": [],
   "source": []
  }
 ],
 "metadata": {
  "kernelspec": {
   "display_name": "Python 3",
   "language": "python",
   "name": "python3"
  },
  "language_info": {
   "codemirror_mode": {
    "name": "ipython",
    "version": 3
   },
   "file_extension": ".py",
   "mimetype": "text/x-python",
   "name": "python",
   "nbconvert_exporter": "python",
   "pygments_lexer": "ipython3",
   "version": "3.7.3"
  }
 },
 "nbformat": 4,
 "nbformat_minor": 2
}
