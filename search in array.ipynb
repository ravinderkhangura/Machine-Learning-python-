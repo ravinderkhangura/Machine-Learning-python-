{
 "cells": [
  {
   "cell_type": "code",
   "execution_count": 27,
   "metadata": {},
   "outputs": [
    {
     "name": "stdout",
     "output_type": "stream",
     "text": [
      "Enter the Element : 71\n",
      "Element found at index 8\n"
     ]
    }
   ],
   "source": [
    "import array\n",
    "\n",
    "arr= array.array('i',[1,3,5,7,8,9,90,4,71,67,86,45])\n",
    " \n",
    "s = int(input(\"Enter the Element : \"))\n",
    "count = None\n",
    "for i in arr:\n",
    "     if i is s:\n",
    "        print(\"Element found at index\",arr.index(i))\n",
    "        count= 1\n",
    "        break\n",
    "if count is None:\n",
    "    print(\"Element not found\")\n",
    "\n"
   ]
  },
  {
   "cell_type": "code",
   "execution_count": null,
   "metadata": {},
   "outputs": [],
   "source": []
  }
 ],
 "metadata": {
  "kernelspec": {
   "display_name": "Python 3",
   "language": "python",
   "name": "python3"
  },
  "language_info": {
   "codemirror_mode": {
    "name": "ipython",
    "version": 3
   },
   "file_extension": ".py",
   "mimetype": "text/x-python",
   "name": "python",
   "nbconvert_exporter": "python",
   "pygments_lexer": "ipython3",
   "version": "3.7.3"
  }
 },
 "nbformat": 4,
 "nbformat_minor": 2
}
