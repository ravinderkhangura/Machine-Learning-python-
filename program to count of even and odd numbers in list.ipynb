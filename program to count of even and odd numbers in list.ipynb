{
 "cells": [
  {
   "cell_type": "code",
   "execution_count": 4,
   "metadata": {},
   "outputs": [
    {
     "name": "stdout",
     "output_type": "stream",
     "text": [
      "count of even numbers:  9\n",
      "count of odd numbers:  7\n"
     ]
    }
   ],
   "source": [
    "ls=[0,1,0,0,2,3,4,5,6,7,8,8,8,9,10,11,12,13,14]\n",
    "eve=0\n",
    "od=0\n",
    "for x in ls:\n",
    "    if x is 0:\n",
    "        continue\n",
    "        \n",
    "    elif x%2 is 0:\n",
    "        eve= eve+1\n",
    "        \n",
    "    else:\n",
    "        od= od+1\n",
    "        \n",
    "print(\"count of even numbers: \",eve)\n",
    "print(\"count of odd numbers: \",od)"
   ]
  },
  {
   "cell_type": "code",
   "execution_count": null,
   "metadata": {},
   "outputs": [],
   "source": []
  }
 ],
 "metadata": {
  "kernelspec": {
   "display_name": "Python 3",
   "language": "python",
   "name": "python3"
  },
  "language_info": {
   "codemirror_mode": {
    "name": "ipython",
    "version": 3
   },
   "file_extension": ".py",
   "mimetype": "text/x-python",
   "name": "python",
   "nbconvert_exporter": "python",
   "pygments_lexer": "ipython3",
   "version": "3.7.3"
  }
 },
 "nbformat": 4,
 "nbformat_minor": 2
}
